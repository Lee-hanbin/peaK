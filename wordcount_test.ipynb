{
 "cells": [
  {
   "cell_type": "code",
   "execution_count": 425,
   "id": "08353e98",
   "metadata": {},
   "outputs": [],
   "source": [
    "import pyspark\n",
    "import string\n",
    "from pecab import PeCab\n",
    "import re"
   ]
  },
  {
   "cell_type": "code",
   "execution_count": 426,
   "id": "21ae939a",
   "metadata": {},
   "outputs": [],
   "source": [
    "# local[*] : 모든 코어를 사용하겠다, local[4] : 4개의 코어를 사용하겠다.\n",
    "\n",
    "spark = SparkSession.builder\\\n",
    "        .master(\"local[*]\")\\\n",
    "        .appName(\"WordCount\")\\\n",
    "        .getOrCreate()\n",
    "\n",
    "sc = spark.sparkContext"
   ]
  },
  {
   "cell_type": "code",
   "execution_count": 427,
   "id": "04bc47d6",
   "metadata": {
    "scrolled": true
   },
   "outputs": [],
   "source": [
    "article_source = \"./기사3.txt\"\n",
    "article_rdd = sc.textFile(article_source)\n",
    "# article_rdd.take(100)"
   ]
  },
  {
   "cell_type": "code",
   "execution_count": 428,
   "id": "a17e2346",
   "metadata": {},
   "outputs": [],
   "source": [
    "# 따옴표 안의 공백문자 제거하기\n",
    "def rm_space_in_quote(x):\n",
    "    encoded_string = x.encode('utf-8')\n",
    "    decoded_string = encoded_string.decode('utf-8')\n",
    "    no_space_string = string_without_spaces = re.sub(r\"'[^']*'\", lambda m: m.group().replace(\" \", \"\"), decoded_string)\n",
    "    return no_space_string\n",
    "\n",
    "article_rdd = article_rdd.map(rm_space_in_quote)"
   ]
  },
  {
   "cell_type": "code",
   "execution_count": 429,
   "id": "1be8239e",
   "metadata": {},
   "outputs": [],
   "source": [
    "# 사용자 정의사전 만들기\n",
    "def make_user_dict(x):\n",
    "    encoded_string = x.encode('utf-8')\n",
    "    decoded_string = encoded_string.decode('utf-8')\n",
    "    substrings = re.findall(r\"'(.*?)'\", decoded_string)\n",
    "    return substrings\n",
    "\n",
    "user_dict = [\"뉴진스\"]\n",
    "user_words = article_rdd.map(make_user_dict)\n",
    "non_empty_lists = user_words.filter(lambda x: len(x) > 0)\n",
    "flattened_lists = non_empty_lists.flatMap(lambda x: x)\n",
    "user_dict += flattened_lists.map(lambda x: x.replace(\" \",\"\")).collect()"
   ]
  },
  {
   "cell_type": "code",
   "execution_count": 430,
   "id": "83c36283",
   "metadata": {},
   "outputs": [],
   "source": [
    "# user_dict : 사용자 정의 단어\n",
    "pecab = PeCab(user_dict=user_dict)"
   ]
  },
  {
   "cell_type": "code",
   "execution_count": 431,
   "id": "e12ab489",
   "metadata": {},
   "outputs": [],
   "source": [
    "# 특수문자 제거\n",
    "article_rdd = article_rdd.map(clean_str)"
   ]
  },
  {
   "cell_type": "code",
   "execution_count": 432,
   "id": "29fa018c",
   "metadata": {},
   "outputs": [],
   "source": [
    "def clean_str(x):\n",
    "    punc = string.punctuation\n",
    "    for ch in punc:\n",
    "        x = x.replace(ch, '')\n",
    "    return x"
   ]
  },
  {
   "cell_type": "code",
   "execution_count": 433,
   "id": "d2fe9192",
   "metadata": {},
   "outputs": [],
   "source": [
    "# 단어로 나누기\n",
    "# Return a new RDD by first applying a function to all elements of this RDD,\n",
    "# and then flattening the results\n",
    "article_rdd = article_rdd.flatMap(lambda article: pecab.nouns(article))"
   ]
  },
  {
   "cell_type": "code",
   "execution_count": 434,
   "id": "7f10b296",
   "metadata": {},
   "outputs": [],
   "source": [
    "# 공백문자 없애기\n",
    "article_rdd = article_rdd.filter(lambda x: x!='')"
   ]
  },
  {
   "cell_type": "code",
   "execution_count": 435,
   "id": "f942ac8a",
   "metadata": {},
   "outputs": [],
   "source": [
    "from sklearn.feature_extraction.text import CountVectorizer\n",
    "import pandas as pd\n",
    "import numpy as np\n",
    "\n",
    "vect = CountVectorizer()\n",
    "document_term_matrix = vect.fit_transform(list(article_rdd.toLocalIterator()))\n",
    "\n",
    "tf = pd.DataFrame(document_term_matrix.toarray(), columns=vect.get_feature_names_out())\n",
    "\n",
    "D = len(tf)\n",
    "df = tf.astype(bool).sum(axis=0)\n",
    "idf = np.log((D+1) / (df+1)) + 1             # IDF (Inverse Document Frequency)\n",
    "\n",
    "# TF-IDF (Term Frequency-Inverse Document Frequency)\n",
    "tfidf = tf * idf                      \n",
    "tfidf = tfidf / np.linalg.norm(tfidf, axis=1, keepdims=True)\n",
    "tfidf.to_csv('output.csv', encoding = 'utf-8-sig')"
   ]
  },
  {
   "cell_type": "code",
   "execution_count": null,
   "id": "3a6cb588",
   "metadata": {},
   "outputs": [],
   "source": [
    "# # 공백문자 없애기\n",
    "# article_rdd = article_rdd.filter(lambda x: x!='')\n",
    "\n",
    "# # 나왔던 단어 중복제거하며 저장\n",
    "# article_count = article_rdd.map(lambda word:(word,1))\n",
    "\n",
    "# # Reduce By Key\n",
    "# # Key에 대해 count\n",
    "# article_count_RBK = article_count.reduceByKey(lambda x,y: (x+y)).sortByKey()\n",
    "\n",
    "# # (key,var) -> (var,key) 로 변경\n",
    "# article_count_RBK = article_count_RBK.map(lambda x:(x[1],x[0]))\n",
    "\n",
    "# #\n",
    "# article_count_RBK.sortByKey(False).take(10)"
   ]
  }
 ],
 "metadata": {
  "kernelspec": {
   "display_name": "Python 3 (ipykernel)",
   "language": "python",
   "name": "python3"
  },
  "language_info": {
   "codemirror_mode": {
    "name": "ipython",
    "version": 3
   },
   "file_extension": ".py",
   "mimetype": "text/x-python",
   "name": "python",
   "nbconvert_exporter": "python",
   "pygments_lexer": "ipython3",
   "version": "3.10.0"
  }
 },
 "nbformat": 4,
 "nbformat_minor": 5
}
