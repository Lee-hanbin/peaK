{
 "cells": [
  {
   "cell_type": "code",
   "execution_count": 41,
   "id": "08353e98",
   "metadata": {},
   "outputs": [],
   "source": [
    "import pyspark\n",
    "import string\n",
    "from pecab import PeCab\n",
    "import pandas as pd\n",
    "import numpy as np\n",
    "from pyspark.sql.functions import pandas_udf, monotonically_increasing_id, regexp_replace, sum, asc\n",
    "from pyspark.sql.types import StructType, StructField, StringType, MapType, ArrayType\n",
    "import re"
   ]
  },
  {
   "cell_type": "code",
   "execution_count": 3,
   "id": "21ae939a",
   "metadata": {},
   "outputs": [],
   "source": [
    "# local[*] : 모든 코어를 사용하겠다, local[4] : 4개의 코어를 사용하겠다.\n",
    "\n",
    "spark = SparkSession.builder\\\n",
    "        .master(\"local[*]\")\\\n",
    "        .appName(\"WordCount\")\\\n",
    "        .getOrCreate()\n"
   ]
  },
  {
   "cell_type": "code",
   "execution_count": 4,
   "id": "7940b8dd",
   "metadata": {},
   "outputs": [
    {
     "name": "stderr",
     "output_type": "stream",
     "text": [
      "                                                                                \r"
     ]
    },
    {
     "name": "stdout",
     "output_type": "stream",
     "text": [
      "CPU times: user 51.6 ms, sys: 9.96 ms, total: 61.5 ms\n",
      "Wall time: 1min 28s\n"
     ]
    }
   ],
   "source": [
    "%%time\n",
    "\n",
    "# Define the schema of the DataFrame\n",
    "# schema = StructType([\n",
    "#                      StructField(\"date\", StringType(), True), \\\n",
    "#                      StructField(\"idol\", StringType(), True), \\\n",
    "#                      StructField(\"press\", StringType(), True), \\\n",
    "#                      StructField(\"title\", StringType(), True), \\\n",
    "#                      StructField(\"summary\", IntegerType(), True), \\\n",
    "#                      StructField(\"content\", IntegerType(), True), \\\n",
    "#                      StructField(\"link\", IntegerType(), True), \\\n",
    "#                      StructField(\"thumbnail_link\", IntegerType(), True)])\n",
    "data_name= \"test_csv\"\n",
    "# Load the text data into a DataFrame\n",
    "df = spark.read.options(header='True', inferSchema='True', delimiter='|',quote='\"', multiLine=\"true\").option(\"encoding\", \"UTF-8\").csv(f\"file:///home/j8a507/cluster/news/{data_name}.csv\")\n",
    "# df.collect()"
   ]
  },
  {
   "cell_type": "code",
   "execution_count": 5,
   "id": "a17e2346",
   "metadata": {},
   "outputs": [],
   "source": [
    "@pandas_udf(StringType())\n",
    "def rm_space_in_quote_udf(x: pd.Series) -> pd.Series:\n",
    "    def rm_space_in_quote(string):\n",
    "        encoded_string = string.encode('utf-8')\n",
    "        decoded_string = encoded_string.decode('utf-8')\n",
    "        no_space_string = re.sub(r\"'[^']*'\", lambda m: m.group().replace(\" \", \"\"), decoded_string)\n",
    "        return no_space_string\n",
    "\n",
    "    return x.apply(rm_space_in_quote)"
   ]
  },
  {
   "cell_type": "code",
   "execution_count": 6,
   "id": "3d69f007",
   "metadata": {},
   "outputs": [
    {
     "name": "stderr",
     "output_type": "stream",
     "text": [
      "                                                                                \r"
     ]
    },
    {
     "data": {
      "text/plain": [
       "[Row(date='2023-03-03', idol='TWICE', press='연합뉴스TV', title=\"트와이스, K팝 여가수 최초 '빌보드 위민 인 뮤직' 수상\", summary=' \"걸그룹 트와이스가 K팝 여가수 최초로 \\'빌보드 위민 인 뮤직\\'에서 수상했습니다.소속사 JYP엔터테인먼트는 걸그룹 트와이스가 현지시간으로 지난 1일 미국 로스앤젤레스 유튜브 시어터에서 열린 \\'빌보드 위민 인 뮤직\\'\"', content=\"걸그룹 트와이스가 K팝 여가수 최초로 '빌보드위민인뮤직'에서 수상했습니다. 소속사 JYP엔터테인먼트는 걸그룹 트와이스가 현지시간으로 지난 1일 미국 로스앤젤레스 유튜브 시어터에서 열린 '빌보드위민인뮤직' 시상식에 참석해 '브레이크스루아티스트' 부문에서 수상했다고 밝혔습니다. '브레이크스루아티스트' 부문은 음악 시장에서 의미있는 도전을 해내고 두각을 드러낸 가수에게 주는 상입니다.빌보드가 주최하는 이 시상식은 한 해 음악 산업에 큰 영향을 끼친 여성 아티스트와 크리에이터, 프로듀서 등에 시상합니다.신새롬 기자 (romi@yna.co.kr)연합뉴스TV 기사문의 및 제보 : 카톡/라인 jebo23\", link='https://entertain.naver.com/now/read?oid=422&aid=0000586954', thumbnail_link='https://mimgnews.pstatic.net/image/origin/422/2023/03/03/586954.jpg?type=nf124_82_q90'),\n",
       " Row(date='2023-03-03', idol='NewJeans', press='스포츠조선', title=\"뉴진스, 데뷔 전 모습 공개에 '얼마나 더 어렸던 거야?', 민지·혜인, 의욕 넘치고 생기가 가득\", summary=' \"\"뉴진스에게 이리 \\'애기애기\\'하던 시절이 있었다니……이 영상 박제해요! 민희진 대표가 자신의 개인 계정에 뉴진스의 민지 혜인의 데뷔 전 영상을 올려 눈길을 끈다. 영상 속 민지와 혜인은 지금보다 훨씬 앳되보이는 모습.이미지 원본보기사진 출처=민희진 개인 계정[스포츠조선 이정혁 기자]\"', content=' \"뉴진스에게 이리 \\'애기애기\\'하던 시절이 있었다니……이 영상 박제해요!민희진 대표가 자신의 개인 계정에 뉴진스의 민지 혜인의 데뷔 전 영상을 올려 눈길을 끈다.영상 속 민지와 혜인은 지금보다 훨씬 앳되보이는 모습. 냉장고의 글자 자석을 이용해 뉴진스를 만드는 표정이 모든 것이 신기하고 의욕에 넘치는 시절을 보여주는 듯, 생기가 넘친다.이들은 \\'두분한번일어나주시죠\\'란 말에 냉장고 앞에 앉아있다가 벌떡 일어나 청바지 뒤가 보이게 포즈를 취했다. 청바지엔 각기 다른 모양으로 뉴진스 레터링이 장식되어 있어 귀여움을 더했다.한편 민희진 어도어(ADOR) 대표는 \\'2023빌보드우먼인뮤직\\'(2023 BILLBOARD WOMEN IN MUSIC)에 선정됐다.23일(현지시간) 빌보드는 공식 홈페이지를 통해 \\'빌보드우먼인뮤직\\' 리스트를 발표했다. 이 가운데 리스트에는 민희진 어도어 대표도 언급됐다.빌보드 우먼 인 뮤직은 한 해 동안 음악 산업에 큰 영향을 끼친 여성 아티스트 크리에이터 프로듀서 경영진 등을 선정하는 리스트다.빌보드는 \"\"뉴진스가 \\'디토\\'(Ditto)로 빌보드 글로벌 200에서 8위를 달성하는 등 세계 음악 시장 진출에 박차를 가하고 있다\"\"라며 민희진 대표의 어도어 경영 성과를 언급했다.민희진 대표는 지난해 미국 버라이어티가 선정하는 \\'글로벌영향력있는여성\\' 리스트에 이름을 올린 바 있다.이미지 원본보기사진 출처=민희진 개인 계정이미지 원본보기사진 출처=민희진 개인 계정\"\"', link='https://entertain.naver.com/now/read?oid=076&aid=0003977403', thumbnail_link='https://ssl.pstatic.net/mimgnews/image/origin/076/2023/03/03/3977403.jpg?type=nf124_82_q90')]"
      ]
     },
     "execution_count": 6,
     "metadata": {},
     "output_type": "execute_result"
    }
   ],
   "source": [
    "%%time\n",
    "df = df.withColumn(\"content\", rm_space_in_quote_udf(df[\"content\"]))\n",
    "df.collect()"
   ]
  },
  {
   "cell_type": "code",
   "execution_count": 7,
   "id": "1be8239e",
   "metadata": {},
   "outputs": [
    {
     "name": "stderr",
     "output_type": "stream",
     "text": [
      "\r",
      "[Stage 3:>                                                          (0 + 1) / 1]\r"
     ]
    },
    {
     "name": "stdout",
     "output_type": "stream",
     "text": [
      "{'디토', '빌보드우먼인뮤직', '브레이크스루아티스트', '뉴진스', '트와이스', '두분한번일어나주시죠', '빌보드위민인뮤직', '글로벌영향력있는여성', '애기애기', '2023빌보드우먼인뮤직'}\n"
     ]
    }
   ],
   "source": [
    "user_dict= {\"뉴진스\",\"트와이스\"}\n",
    "\n",
    "# 사용자 정의사전 만들기\n",
    "@pandas_udf(ArrayType(StringType()))\n",
    "def make_user_dict_udf(x: pd.Series) -> pd.Series:\n",
    "    def make_user_dict(string):\n",
    "        encoded_string = string.encode('utf-8')\n",
    "        decoded_string = encoded_string.decode('utf-8')\n",
    "        substrings = re.findall(r\"'(.*?)'\", decoded_string)\n",
    "        return substrings\n",
    "    return x.apply(make_user_dict)\n",
    "\n",
    "df_dict = df.withColumn(\"user_dict_row\", make_user_dict_udf(df[\"content\"]))\n",
    "# df_dict.collect()\n",
    "for w in df_dict.toLocalIterator():\n",
    "    user_dict.update(w[\"user_dict_row\"])\n",
    "print(user_dict)\n",
    "\n",
    "\n",
    "# non_empty_lists = user_words.filter(lambda x: len(x) > 0)\n",
    "# flattened_lists = non_empty_lists.flatMap(lambda x: x)\n",
    "# user_dict += flattened_lists.map(lambda x: x.replace(\" \",\"\")).collect()"
   ]
  },
  {
   "cell_type": "code",
   "execution_count": 9,
   "id": "83c36283",
   "metadata": {},
   "outputs": [],
   "source": [
    "# user_dict : 사용자 정의 단어\n",
    "pecab = PeCab(user_dict=user_dict)"
   ]
  },
  {
   "cell_type": "code",
   "execution_count": 10,
   "id": "a0c0fd16",
   "metadata": {},
   "outputs": [],
   "source": [
    "@pandas_udf(StringType())\n",
    "def clean_str_udf(x: pd.Series) -> pd.Series:\n",
    "    def clean_str(x):\n",
    "        punc = string.punctuation\n",
    "        for ch in punc:\n",
    "            x = x.replace(ch, '')\n",
    "        return x\n",
    "    return x.apply(clean_str)"
   ]
  },
  {
   "cell_type": "code",
   "execution_count": 24,
   "id": "972f44aa",
   "metadata": {},
   "outputs": [
    {
     "name": "stderr",
     "output_type": "stream",
     "text": [
      "\r",
      "[Stage 8:>                                                          (0 + 1) / 1]\r"
     ]
    },
    {
     "name": "stdout",
     "output_type": "stream",
     "text": [
      "CPU times: user 44.3 ms, sys: 0 ns, total: 44.3 ms\n",
      "Wall time: 15.4 s\n"
     ]
    },
    {
     "name": "stderr",
     "output_type": "stream",
     "text": [
      "\r",
      "                                                                                \r"
     ]
    },
    {
     "data": {
      "text/plain": [
       "[Row(date='2023-03-03', idol='TWICE', press='연합뉴스TV', title=\"트와이스, K팝 여가수 최초 '빌보드 위민 인 뮤직' 수상\", summary=' \"걸그룹 트와이스가 K팝 여가수 최초로 \\'빌보드 위민 인 뮤직\\'에서 수상했습니다.소속사 JYP엔터테인먼트는 걸그룹 트와이스가 현지시간으로 지난 1일 미국 로스앤젤레스 유튜브 시어터에서 열린 \\'빌보드 위민 인 뮤직\\'\"', content='걸그룹 트와이스가 K팝 여가수 최초로 빌보드위민인뮤직에서 수상했습니다 소속사 JYP엔터테인먼트는 걸그룹 트와이스가 현지시간으로 지난 1일 미국 로스앤젤레스 유튜브 시어터에서 열린 빌보드위민인뮤직 시상식에 참석해 브레이크스루아티스트 부문에서 수상했다고 밝혔습니다 브레이크스루아티스트 부문은 음악 시장에서 의미있는 도전을 해내고 두각을 드러낸 가수에게 주는 상입니다빌보드가 주최하는 이 시상식은 한 해 음악 산업에 큰 영향을 끼친 여성 아티스트와 크리에이터 프로듀서 등에 시상합니다신새롬 기자 romiynacokr연합뉴스TV 기사문의 및 제보  카톡라인 jebo23', link='https://entertain.naver.com/now/read?oid=422&aid=0000586954', thumbnail_link='https://mimgnews.pstatic.net/image/origin/422/2023/03/03/586954.jpg?type=nf124_82_q90'),\n",
       " Row(date='2023-03-03', idol='NewJeans', press='스포츠조선', title=\"뉴진스, 데뷔 전 모습 공개에 '얼마나 더 어렸던 거야?', 민지·혜인, 의욕 넘치고 생기가 가득\", summary=' \"\"뉴진스에게 이리 \\'애기애기\\'하던 시절이 있었다니……이 영상 박제해요! 민희진 대표가 자신의 개인 계정에 뉴진스의 민지 혜인의 데뷔 전 영상을 올려 눈길을 끈다. 영상 속 민지와 혜인은 지금보다 훨씬 앳되보이는 모습.이미지 원본보기사진 출처=민희진 개인 계정[스포츠조선 이정혁 기자]\"', content=' 뉴진스에게 이리 애기애기하던 시절이 있었다니……이 영상 박제해요민희진 대표가 자신의 개인 계정에 뉴진스의 민지 혜인의 데뷔 전 영상을 올려 눈길을 끈다영상 속 민지와 혜인은 지금보다 훨씬 앳되보이는 모습 냉장고의 글자 자석을 이용해 뉴진스를 만드는 표정이 모든 것이 신기하고 의욕에 넘치는 시절을 보여주는 듯 생기가 넘친다이들은 두분한번일어나주시죠란 말에 냉장고 앞에 앉아있다가 벌떡 일어나 청바지 뒤가 보이게 포즈를 취했다 청바지엔 각기 다른 모양으로 뉴진스 레터링이 장식되어 있어 귀여움을 더했다한편 민희진 어도어ADOR 대표는 2023빌보드우먼인뮤직2023 BILLBOARD WOMEN IN MUSIC에 선정됐다23일현지시간 빌보드는 공식 홈페이지를 통해 빌보드우먼인뮤직 리스트를 발표했다 이 가운데 리스트에는 민희진 어도어 대표도 언급됐다빌보드 우먼 인 뮤직은 한 해 동안 음악 산업에 큰 영향을 끼친 여성 아티스트 크리에이터 프로듀서 경영진 등을 선정하는 리스트다빌보드는 뉴진스가 디토Ditto로 빌보드 글로벌 200에서 8위를 달성하는 등 세계 음악 시장 진출에 박차를 가하고 있다라며 민희진 대표의 어도어 경영 성과를 언급했다민희진 대표는 지난해 미국 버라이어티가 선정하는 글로벌영향력있는여성 리스트에 이름을 올린 바 있다이미지 원본보기사진 출처민희진 개인 계정이미지 원본보기사진 출처민희진 개인 계정', link='https://entertain.naver.com/now/read?oid=076&aid=0003977403', thumbnail_link='https://ssl.pstatic.net/mimgnews/image/origin/076/2023/03/03/3977403.jpg?type=nf124_82_q90')]"
      ]
     },
     "execution_count": 24,
     "metadata": {},
     "output_type": "execute_result"
    }
   ],
   "source": [
    "%%time\n",
    "df = df.withColumn(\"content\", clean_str_udf(df[\"content\"]))\n",
    "df.collect()"
   ]
  },
  {
   "cell_type": "code",
   "execution_count": 21,
   "id": "53a97ddc",
   "metadata": {
    "scrolled": true
   },
   "outputs": [
    {
     "name": "stdout",
     "output_type": "stream",
     "text": [
      "['걸', '그룹', '트와이스', '팝', '가수', '최초', '빌보드위민인뮤직', '수상', '소속', '사', '엔터', '테', '인먼', '걸', '그룹', '트와이스', '현지', '시간', '일', '미국', '로스앤젤레스', '유튜브', '시어터', '빌보드위민인뮤직', '시상식', '참석', '브레이크스루아티스트', '부문', '수상', '브레이크스루아티스트', '부문', '음악', '시장', '의미', '도전', '두각', '가수', '상', '빌보드', '주최', '시상식', '해', '음악', '산업', '영향', '여성', '아티스트', '크리에이터', '프로듀서', '등', '시상', '새롬', '기자', '연합뉴스', '기사문', '제보', '카톡', '라인']\n"
     ]
    }
   ],
   "source": []
  },
  {
   "cell_type": "code",
   "execution_count": 38,
   "id": "16fca05a",
   "metadata": {},
   "outputs": [],
   "source": [
    "from sklearn.feature_extraction.text import CountVectorizer\n",
    "\n",
    "def word_count(nouns):\n",
    "    vect = CountVectorizer()\n",
    "    document_term_matrix = vect.fit_transform(nouns)\n",
    "\n",
    "    tf = pd.DataFrame(document_term_matrix.toarray(), columns=vect.get_feature_names_out())\n",
    "\n",
    "    D = len(tf)\n",
    "    df = tf.astype(bool).sum(axis=0)\n",
    "    idf = np.log((D+1) / (df+1)) + 1             # IDF (Inverse Document Frequency)\n",
    "\n",
    "    # TF-IDF (Term Frequency-Inverse Document Frequency)\n",
    "    tfidf = tf * idf                      \n",
    "    tfidf = tfidf / np.linalg.norm(tfidf, axis=1, keepdims=True)\n",
    "    return tfidf"
   ]
  },
  {
   "cell_type": "code",
   "execution_count": 45,
   "id": "f6581221",
   "metadata": {},
   "outputs": [
    {
     "name": "stderr",
     "output_type": "stream",
     "text": [
      "/usr/local/spark/python/pyspark/sql/pandas/conversion.py:371: FutureWarning: iteritems is deprecated and will be removed in a future version. Use .items instead.\n",
      "  for column, series in pdf.iteritems():\n"
     ]
    },
    {
     "data": {
      "text/plain": [
       "[Row(가수=2.0, 그룹=2.0, 기사문=1.0, 기자=1.0, 도전=1.0, 두각=1.0, 라인=1.0, 로스앤젤레스=1.0, 미국=1.0, 부문=2.0, 브레이크스루아티스트=2.0, 빌보드=1.0, 빌보드위민인뮤직=2.0, 산업=1.0, 새롬=1.0, 소속=1.0, 수상=2.0, 시간=1.0, 시상=1.0, 시상식=2.0, 시어터=1.0, 시장=1.0, 아티스트=1.0, 엔터=1.0, 여성=1.0, 연합뉴스=1.0, 영향=1.0, 유튜브=1.0, 음악=2.0, 의미=1.0, 인먼=1.0, 제보=1.0, 주최=1.0, 참석=1.0, 최초=1.0, 카톡=1.0, 크리에이터=1.0, 트와이스=2.0, 프로듀서=1.0, 현지=1.0)]"
      ]
     },
     "execution_count": 45,
     "metadata": {},
     "output_type": "execute_result"
    }
   ],
   "source": [
    "words = pecab.nouns(\"걸그룹 트와이스가 K팝 여가수 최초로 빌보드위민인뮤직에서 수상했습니다 소속사 JYP엔터테인먼트는 걸그룹 트와이스가 현지시간으로 지난 1일 미국 로스앤젤레스 유튜브 시어터에서 열린 빌보드위민인뮤직 시상식에 참석해 브레이크스루아티스트 부문에서 수상했다고 밝혔습니다 브레이크스루아티스트 부문은 음악 시장에서 의미있는 도전을 해내고 두각을 드러낸 가수에게 주는 상입니다빌보드가 주최하는 이 시상식은 한 해 음악 산업에 큰 영향을 끼친 여성 아티스트와 크리에이터 프로듀서 등에 시상합니다신새롬 기자 romiynacokr연합뉴스TV 기사문의 및 제보  카톡라인 jebo23\")\n",
    "pdf = spark.createDataFrame(word_count(words).dropna())\n",
    "# pdf.collect()\n",
    "sums = pdf.agg(*[sum(c).alias(c) for c in pdf.columns])\n",
    "sums.collect()"
   ]
  },
  {
   "cell_type": "code",
   "execution_count": 19,
   "id": "207c4de8",
   "metadata": {},
   "outputs": [
    {
     "name": "stderr",
     "output_type": "stream",
     "text": [
      "                                                                                \r"
     ]
    },
    {
     "data": {
      "text/plain": [
       "[Row(date='2023-03-03', idol='TWICE', press='연합뉴스TV', title=\"트와이스, K팝 여가수 최초 '빌보드 위민 인 뮤직' 수상\", summary=' \"걸그룹 트와이스가 K팝 여가수 최초로 \\'빌보드 위민 인 뮤직\\'에서 수상했습니다.소속사 JYP엔터테인먼트는 걸그룹 트와이스가 현지시간으로 지난 1일 미국 로스앤젤레스 유튜브 시어터에서 열린 \\'빌보드 위민 인 뮤직\\'\"', content='걸그룹 트와이스가 K팝 여가수 최초로 빌보드위민인뮤직에서 수상했습니다 소속사 JYP엔터테인먼트는 걸그룹 트와이스가 현지시간으로 지난 1일 미국 로스앤젤레스 유튜브 시어터에서 열린 빌보드위민인뮤직 시상식에 참석해 브레이크스루아티스트 부문에서 수상했다고 밝혔습니다 브레이크스루아티스트 부문은 음악 시장에서 의미있는 도전을 해내고 두각을 드러낸 가수에게 주는 상입니다빌보드가 주최하는 이 시상식은 한 해 음악 산업에 큰 영향을 끼친 여성 아티스트와 크리에이터 프로듀서 등에 시상합니다신새롬 기자 romiynacokr연합뉴스TV 기사문의 및 제보  카톡라인 jebo23', link='https://entertain.naver.com/now/read?oid=422&aid=0000586954', thumbnail_link='https://mimgnews.pstatic.net/image/origin/422/2023/03/03/586954.jpg?type=nf124_82_q90', words=['걸', '그룹', '트와이스', '팝', '가수', '최초', '빌보드위민인뮤직', '수상', '소속', '사', '엔터', '테', '인먼', '걸', '그룹', '트와이스', '현지', '시간', '일', '미국', '로스앤젤레스', '유튜브', '시어터', '빌보드위민인뮤직', '시상식', '참석', '브레이크스루아티스트', '부문', '수상', '브레이크스루아티스트', '부문', '음악', '시장', '의미', '도전', '두각', '가수', '상', '빌보드', '주최', '시상식', '해', '음악', '산업', '영향', '여성', '아티스트', '크리에이터', '프로듀서', '등', '시상', '새롬', '기자', '연합뉴스', '기사문', '제보', '카톡', '라인']),\n",
       " Row(date='2023-03-03', idol='NewJeans', press='스포츠조선', title=\"뉴진스, 데뷔 전 모습 공개에 '얼마나 더 어렸던 거야?', 민지·혜인, 의욕 넘치고 생기가 가득\", summary=' \"\"뉴진스에게 이리 \\'애기애기\\'하던 시절이 있었다니……이 영상 박제해요! 민희진 대표가 자신의 개인 계정에 뉴진스의 민지 혜인의 데뷔 전 영상을 올려 눈길을 끈다. 영상 속 민지와 혜인은 지금보다 훨씬 앳되보이는 모습.이미지 원본보기사진 출처=민희진 개인 계정[스포츠조선 이정혁 기자]\"', content=' 뉴진스에게 이리 애기애기하던 시절이 있었다니……이 영상 박제해요민희진 대표가 자신의 개인 계정에 뉴진스의 민지 혜인의 데뷔 전 영상을 올려 눈길을 끈다영상 속 민지와 혜인은 지금보다 훨씬 앳되보이는 모습 냉장고의 글자 자석을 이용해 뉴진스를 만드는 표정이 모든 것이 신기하고 의욕에 넘치는 시절을 보여주는 듯 생기가 넘친다이들은 두분한번일어나주시죠란 말에 냉장고 앞에 앉아있다가 벌떡 일어나 청바지 뒤가 보이게 포즈를 취했다 청바지엔 각기 다른 모양으로 뉴진스 레터링이 장식되어 있어 귀여움을 더했다한편 민희진 어도어ADOR 대표는 2023빌보드우먼인뮤직2023 BILLBOARD WOMEN IN MUSIC에 선정됐다23일현지시간 빌보드는 공식 홈페이지를 통해 빌보드우먼인뮤직 리스트를 발표했다 이 가운데 리스트에는 민희진 어도어 대표도 언급됐다빌보드 우먼 인 뮤직은 한 해 동안 음악 산업에 큰 영향을 끼친 여성 아티스트 크리에이터 프로듀서 경영진 등을 선정하는 리스트다빌보드는 뉴진스가 디토Ditto로 빌보드 글로벌 200에서 8위를 달성하는 등 세계 음악 시장 진출에 박차를 가하고 있다라며 민희진 대표의 어도어 경영 성과를 언급했다민희진 대표는 지난해 미국 버라이어티가 선정하는 글로벌영향력있는여성 리스트에 이름을 올린 바 있다이미지 원본보기사진 출처민희진 개인 계정이미지 원본보기사진 출처민희진 개인 계정', link='https://entertain.naver.com/now/read?oid=076&aid=0003977403', thumbnail_link='https://ssl.pstatic.net/mimgnews/image/origin/076/2023/03/03/3977403.jpg?type=nf124_82_q90', words=['뉴진스', '이리', '애기애기', '시절', '영상', '박제', '민희진', '대표', '자신', '개인', '계정', '뉴진스', '민지', '혜인', '데뷔', '전', '영상', '눈길', '영상', '속', '민지', '혜인', '지금', '모습', '냉장고', '글자', '자석', '이용', '뉴진스', '표정', '것', '의', '욕', '시절', '듯', '생기', '이', '두분한번일어나주시죠', '말', '냉장고', '앞', '청바지', '뒤', '포즈', '청바지', '모양', '뉴진스', '레터링', '장식', '한편', '민희진', '도어', '대표', '2023빌보드우먼인뮤직', '선정', '일', '현지', '시간', '빌보드', '공식', '홈페이지', '빌보드우먼인뮤직', '리스트', '발표', '가운데', '리스트', '민희진', '어도', '대표', '언급', '빌보드', '우먼', '뮤직', '해', '동안', '음악', '산업', '영향', '여성', '아티스트', '크리에이터', '프로듀서', '경영진', '등', '선정', '리스트', '빌보드', '뉴진스', '디토', '빌보드', '글로벌', '위', '달성', '등', '세계', '음악', '시장', '진출', '박차', '민희진', '대표', '어도', '경영', '성과', '언급', '민희진', '대표', '지난해', '미국', '버라이어티', '선정', '글로벌영향력있는여성', '리스트', '이름', '바', '이미지', '원본', '사진', '출처', '민희진', '개인', '계정', '이미지', '원본', '사진', '출처', '민희진', '개인', '계정'])]"
      ]
     },
     "execution_count": 19,
     "metadata": {},
     "output_type": "execute_result"
    }
   ],
   "source": [
    "@pandas_udf(ArrayType(MapType()))\n",
    "def pecab_nouns_udf(x: pd.Series) -> pd.Series:\n",
    "    def pecab_nouns(x):\n",
    "        nouns = pecab.nouns(x)\n",
    "        \n",
    "        return nouns\n",
    "    return x.apply(pecab_nouns)\n",
    "\n",
    "df_words = df.withColumn(\"words\", pecab_nouns_udf(df[\"content\"]))\n",
    "df_words.collect()"
   ]
  },
  {
   "cell_type": "code",
   "execution_count": 433,
   "id": "d2fe9192",
   "metadata": {},
   "outputs": [],
   "source": [
    "# 단어로 나누기\n",
    "# Return a new RDD by first applying a function to all elements of this RDD,\n",
    "# and then flattening the results\n",
    "article_rdd = article_rdd.flatMap(lambda article: pecab.nouns(article))\n",
    "\n"
   ]
  },
  {
   "cell_type": "code",
   "execution_count": 434,
   "id": "7f10b296",
   "metadata": {},
   "outputs": [],
   "source": [
    "# 공백문자 없애기\n",
    "article_rdd = article_rdd.filter(lambda x: x!='')"
   ]
  },
  {
   "cell_type": "code",
   "execution_count": 435,
   "id": "f942ac8a",
   "metadata": {},
   "outputs": [],
   "source": [
    "from sklearn.feature_extraction.text import CountVectorizer\n",
    "import pandas as pd\n",
    "import numpy as np\n",
    "\n",
    "def word_count(nouns):\n",
    "    vect = CountVectorizer()\n",
    "    document_term_matrix = vect.fit_transform(nouns)\n",
    "\n",
    "    tf = pd.DataFrame(document_term_matrix.toarray(), columns=vect.get_feature_names_out())\n",
    "\n",
    "    D = len(tf)\n",
    "    df = tf.astype(bool).sum(axis=0)\n",
    "    idf = np.log((D+1) / (df+1)) + 1             # IDF (Inverse Document Frequency)\n",
    "\n",
    "    # TF-IDF (Term Frequency-Inverse Document Frequency)\n",
    "    tfidf = tf * idf                      \n",
    "    tfidf = tfidf / np.linalg.norm(tfidf, axis=1, keepdims=True)\n",
    "    tfidf.to_csv('output.csv', encoding = 'utf-8-sig')"
   ]
  },
  {
   "cell_type": "code",
   "execution_count": null,
   "id": "3a6cb588",
   "metadata": {},
   "outputs": [],
   "source": [
    "# # 공백문자 없애기\n",
    "# article_rdd = article_rdd.filter(lambda x: x!='')\n",
    "\n",
    "# # 나왔던 단어 중복제거하며 저장\n",
    "# article_count = article_rdd.map(lambda word:(word,1))\n",
    "\n",
    "# # Reduce By Key\n",
    "# # Key에 대해 count\n",
    "# article_count_RBK = article_count.reduceByKey(lambda x,y: (x+y)).sortByKey()\n",
    "\n",
    "# # (key,var) -> (var,key) 로 변경\n",
    "# article_count_RBK = article_count_RBK.map(lambda x:(x[1],x[0]))\n",
    "\n",
    "# #\n",
    "# article_count_RBK.sortByKey(False).take(10)"
   ]
  }
 ],
 "metadata": {
  "kernelspec": {
   "display_name": "Python 3 (ipykernel)",
   "language": "python",
   "name": "python3"
  },
  "language_info": {
   "codemirror_mode": {
    "name": "ipython",
    "version": 3
   },
   "file_extension": ".py",
   "mimetype": "text/x-python",
   "name": "python",
   "nbconvert_exporter": "python",
   "pygments_lexer": "ipython3",
   "version": "3.8.10"
  }
 },
 "nbformat": 4,
 "nbformat_minor": 5
}
